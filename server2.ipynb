{
 "cells": [
  {
   "cell_type": "code",
   "execution_count": 1,
   "id": "0156e373",
   "metadata": {},
   "outputs": [],
   "source": [
    "import pickle\n",
    "from flask import Flask, request, jsonify\n",
    "from waitress import serve\n",
    "from movierecmodel import recommend\n",
    "from flask_cors import CORS\n",
    "\n",
    "# Load the cosine similarity matrix using pickle\n",
    "with open('cosine_sim.pickle', 'rb') as f:\n",
    "    cosine_sim = pickle.load(f)\n",
    "\n",
    "app = Flask(__name__)\n",
    "CORS(app)\n",
    "\n",
    "@app.route('/recommend', methods=['POST'])\n",
    "def make_recommendation():\n",
    "    # Get the request data\n",
    "    data = request.get_json()\n",
    "    title = data['title']\n",
    "\n",
    "    # Make the recommendation\n",
    "    results = recommend(title, cosine_sim)\n",
    "\n",
    "    # Return the result as a JSON response\n",
    "    response = {'resultsRec': results}\n",
    "    return jsonify(response)\n",
    "\n",
    "if __name__ == '__main__':\n",
    "    serve(app, host='0.0.0.0', port=5000)"
   ]
  },
  {
   "cell_type": "code",
   "execution_count": null,
   "id": "bae49f2f",
   "metadata": {},
   "outputs": [],
   "source": []
  },
  {
   "cell_type": "code",
   "execution_count": null,
   "id": "4ad6c182",
   "metadata": {},
   "outputs": [],
   "source": []
  }
 ],
 "metadata": {
  "kernelspec": {
   "display_name": "pythonEx",
   "language": "python",
   "name": "python3"
  },
  "language_info": {
   "codemirror_mode": {
    "name": "ipython",
    "version": 3
   },
   "file_extension": ".py",
   "mimetype": "text/x-python",
   "name": "python",
   "nbconvert_exporter": "python",
   "pygments_lexer": "ipython3",
   "version": "3.10.6"
  },
  "vscode": {
   "interpreter": {
    "hash": "fcc4734347a8b7d199e72580a7a0399fa6a2391ab5431e8c2d13492569819b32"
   }
  }
 },
 "nbformat": 4,
 "nbformat_minor": 5
}
